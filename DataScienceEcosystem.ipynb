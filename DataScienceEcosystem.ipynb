{
 "cells": [
  {
   "cell_type": "markdown",
   "id": "8d9ebb7a-8ebd-4fdd-b41f-698daf49e284",
   "metadata": {},
   "source": [
    "<h1>Data Science Tools and Ecosystem</h1>"
   ]
  },
  {
   "cell_type": "markdown",
   "id": "b70fcf10-94de-40d4-9378-e8d59e61b776",
   "metadata": {},
   "source": [
    "In this notebook, Data Science Tools and Ecosystem are summarized."
   ]
  },
  {
   "cell_type": "markdown",
   "id": "f45a0109-3f74-42f3-9ce4-4cde9b0dd2f9",
   "metadata": {},
   "source": [
    "Some of the popular languages that Data Scientists use are: \n",
    "1. Python\n",
    "2. R\n",
    "3. Java\n",
    "4. Scala"
   ]
  },
  {
   "cell_type": "markdown",
   "id": "24c3b105-38f2-4fdd-b180-1fc7899f5c74",
   "metadata": {},
   "source": [
    "Below are the Data Science libraries: \n",
    "1. Numpy\n",
    "2. Scikit-learn\n",
    "3. Tensorflow\n",
    "4. Pandas"
   ]
  },
  {
   "cell_type": "markdown",
   "id": "eae3cffc-f6e2-4886-a140-4a1e7de95cc8",
   "metadata": {},
   "source": [
    "| Data Science Tools |\n",
    "|---|\n",
    "| VS Code |\n",
    "| Jupyter Notebooks |\n",
    "| Google Colab |"
   ]
  },
  {
   "cell_type": "markdown",
   "id": "5b8eb51d-3280-4f4e-8200-3102b88db75b",
   "metadata": {},
   "source": [
    "Below are a few examples of evaluating arithmetic expressions in Python"
   ]
  },
  {
   "cell_type": "code",
   "execution_count": 3,
   "id": "f282dcfb-8302-4bcf-8d59-bea9000ac7d9",
   "metadata": {},
   "outputs": [
    {
     "name": "stdout",
     "output_type": "stream",
     "text": [
      "17\n"
     ]
    }
   ],
   "source": [
    "#This a simple arithmetic expression to mutiply then add integers\n",
    "print((3*4)+5)"
   ]
  },
  {
   "cell_type": "code",
   "execution_count": 4,
   "id": "a64680f0-addc-4972-a0bd-c373e2190417",
   "metadata": {},
   "outputs": [
    {
     "name": "stdout",
     "output_type": "stream",
     "text": [
      " This is the hour equivalent : 3.3333333333333335 h\n"
     ]
    }
   ],
   "source": [
    "# This will convert 200 minutes to hours by diving by 60\n",
    "min = 200\n",
    "hour = min/60\n",
    "print(f\" This is the hour equivalent : {hour} h\")"
   ]
  },
  {
   "cell_type": "markdown",
   "id": "433d478e-0e27-4760-a7bb-e7432dfed266",
   "metadata": {},
   "source": [
    "<strong>Objectives:</strong>\n",
    "- Being familiar with the tools used in Data Science\n",
    "- Use Jupyter Notebook the right way\n",
    "- Being familiar with github"
   ]
  },
  {
   "cell_type": "markdown",
   "id": "f7d5d2bc-cf79-4fad-a9d7-3b4cc0cd8178",
   "metadata": {},
   "source": [
    "<h2>Author :</h2> </br>Anthony Cohen"
   ]
  },
  {
   "cell_type": "code",
   "execution_count": null,
   "id": "edf6be69-d599-4795-b503-f6807c11666c",
   "metadata": {},
   "outputs": [],
   "source": []
  }
 ],
 "metadata": {
  "kernelspec": {
   "display_name": "Python 3 (ipykernel)",
   "language": "python",
   "name": "python3"
  },
  "language_info": {
   "codemirror_mode": {
    "name": "ipython",
    "version": 3
   },
   "file_extension": ".py",
   "mimetype": "text/x-python",
   "name": "python",
   "nbconvert_exporter": "python",
   "pygments_lexer": "ipython3",
   "version": "3.11.7"
  }
 },
 "nbformat": 4,
 "nbformat_minor": 5
}
